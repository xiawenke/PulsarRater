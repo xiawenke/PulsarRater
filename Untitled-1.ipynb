{
 "cells": [
  {
   "cell_type": "code",
   "execution_count": 3,
   "metadata": {},
   "outputs": [],
   "source": [
    "import os\n",
    "import random\n",
    "import numpy as np\n",
    "import matplotlib.pyplot as plt\n",
    "from PIL import Image\n",
    "from skimage import io, color\n",
    "from sklearn import svm, metrics\n",
    "from sklearn.model_selection import train_test_split\n",
    "from skimage.transform import resize\n"
   ]
  },
  {
   "cell_type": "code",
   "execution_count": 36,
   "metadata": {},
   "outputs": [],
   "source": [
    "class load():\n",
    "    def __init__(self, path = \"\"):\n",
    "        self.path = path\n",
    "\n",
    "        if(self.path.endswith('/') != True):\n",
    "            self.path = self.path + '/'\n",
    "    \n",
    "    def load(self):\n",
    "        # Load images from folder 0\n",
    "        x0, _ = self.load_images(self.path + '0/')\n",
    "        y0 = np.ones(len(x0)) * 0\n",
    "\n",
    "        # Load images from folder 1\n",
    "        x1, _ = self.load_images(self.path + '1/')\n",
    "        y1 = np.ones(len(x1)) * 1\n",
    "\n",
    "        # Concatenate all images\n",
    "        x = np.concatenate((x0, x1))\n",
    "        y = np.concatenate((y0, y1))\n",
    "        \n",
    "        # Shuffle data\n",
    "        # x, y = self.shuffle(x, y)\n",
    "\n",
    "        return x, y\n",
    "\n",
    "    def repeat(self, num, val):\n",
    "        '''\n",
    "        Repeats the data num times\n",
    "        '''\n",
    "        ret = []\n",
    "        for _ in range(num):\n",
    "            ret.append([val])\n",
    "        \n",
    "        return ret\n",
    "\n",
    "    def shuffle(self, x, y):\n",
    "        '''\n",
    "        Shuffles the data\n",
    "        '''\n",
    "        xy = list(zip(x, y))\n",
    "        random.shuffle(xy)\n",
    "        x, y = zip(*xy)\n",
    "        return x, y\n",
    "        \n",
    "    def load_images(self, folder):\n",
    "        '''\n",
    "        Loads all images from a folder and returns a list of matrices\n",
    "        '''\n",
    "        # Get files from folder\n",
    "        files = os.listdir(folder)\n",
    "        # Load images\n",
    "        img_list = []\n",
    "        filenames = []\n",
    "        for file in files:\n",
    "            if(file.endswith('.png') or file.endswith('.jpg')):\n",
    "                img_list.append(\n",
    "                    self.img_to_matrix(folder + file)\n",
    "                )\n",
    "                filenames.append(file)\n",
    "\n",
    "        return img_list, filenames\n",
    "\n",
    "    def img_to_matrix(self, img_path):\n",
    "        '''\n",
    "        Loads an image and converts it to a matrix\n",
    "        '''\n",
    "        img = resize(io.imread(img_path), (256, 256))\n",
    "        img = color.rgb2gray(img)\n",
    "        img = img[20:256, :]\n",
    "        reshaped =  self.flatten(img)\n",
    "\n",
    "        '''\n",
    "        print(img[:, 170])\n",
    "        plt.matshow(img)\n",
    "        flattened = self.flatten(img)\n",
    "        plt.scatter(range(len(flattened)), flattened)\n",
    "        raise NotImplementedError\n",
    "        plt.scatter(range(len(reshaped)), reshaped)\n",
    "        plt.show()\n",
    "        print(img_path)\n",
    "        print(reshaped)\n",
    "        raise NotImplementedError\n",
    "        '''\n",
    "        return reshaped\n",
    "    \n",
    "    def flatten(self, x):\n",
    "        '''\n",
    "        Flattens the data\n",
    "        '''\n",
    "        flattened = np.ones(x.shape[1]) * 256\n",
    "        for r in range(x.shape[1]):\n",
    "            thisColumn = x[:, r]\n",
    "            for i in range(len(thisColumn)):\n",
    "                if(thisColumn[i] < 1):\n",
    "                    flattened[r] = i\n",
    "                    break\n",
    "        \n",
    "        return flattened\n",
    "\n",
    "class train():\n",
    "    def __init__(self, dataset):\n",
    "        print('Loading dataset...')\n",
    "        self.load = load(dataset)\n",
    "        self.x, self.y = self.load.load()\n",
    "\n",
    "    def train(self):\n",
    "        print('Training...')\n",
    "        \n",
    "        # Split data into training and test set\n",
    "        x_train, x_test, y_train, y_test = train_test_split(self.x, self.y, test_size=0.2)\n",
    "\n",
    "        # Train SVM\n",
    "        clf = svm.SVC(gamma='scale')\n",
    "        clf.fit(x_train, y_train)\n",
    "\n",
    "        # Predict\n",
    "        y_pred = clf.predict(x_test)\n",
    "\n",
    "        # Print accuracy\n",
    "        print('Accuracy:', metrics.accuracy_score(y_test, y_pred))\n",
    "\n",
    "        return clf\n",
    "        \n",
    "#l = load()\n",
    "#l.img_to_matrix(\"./tests/real13.jpg\")"
   ]
  },
  {
   "cell_type": "code",
   "execution_count": 37,
   "metadata": {},
   "outputs": [],
   "source": [
    "class rater(load, train):\n",
    "    def __init__(self):\n",
    "        self.clf = train('./dataset/').train()\n",
    "    \n",
    "    def rate(self, img_path):\n",
    "        img = self.img_to_matrix(img_path)\n",
    "        return self.clf.predict([img])[0]\n"
   ]
  },
  {
   "cell_type": "code",
   "execution_count": 41,
   "metadata": {},
   "outputs": [
    {
     "name": "stdout",
     "output_type": "stream",
     "text": [
      "Initializing rater...\n",
      "Loading dataset...\n",
      "Training...\n",
      "Accuracy: 1.0\n",
      "Loading images...\n",
      "Rating images...\n",
      " 🟢 Signal detected in S00307_1.cand.012.png_best_pulse.jpg\n",
      " 🟢 Signal detected in S00307_1.cand.022.png_best_pulse.jpg\n",
      " 🟢 Signal detected in S00307_1.cand.011.png_best_pulse.jpg\n",
      " 🟢 Signal detected in S00307_1.cand.007.png_best_pulse.jpg\n",
      " 🟢 Signal detected in real.jpg\n",
      " 🟢 Signal detected in S00307_1.cand.037.png_best_pulse.jpg\n",
      " 🟢 Signal detected in S00307_1.cand.004.png_best_pulse.jpg\n",
      " 🟢 Signal detected in S00307_1.cand.028.png_best_pulse.jpg\n",
      " 🟢 Signal detected in S00307_1.cand.008.png_best_pulse.jpg\n",
      " 🟢 Signal detected in S00307_1.cand.006.png_best_pulse.jpg\n",
      " 🟢 Signal detected in S00307_1.cand.125.png_best_pulse.jpg\n",
      " 🟢 Signal detected in S00307_1.cand.013.png_best_pulse.jpg\n",
      " 🟢 Signal detected in S00307_1.cand.003.png_best_pulse.jpg\n"
     ]
    }
   ],
   "source": [
    "# Initialize rater\n",
    "print('Initializing rater...')\n",
    "r = rater()\n",
    "\n",
    "# Load images\n",
    "print('Loading images...')\n",
    "images, filenames = r.load_images('./tests/')\n",
    "\n",
    "# Rate images\n",
    "print('Rating images...')\n",
    "for i in range(len(images)):\n",
    "    thisRating = r.rate('./tests/' + filenames[i])\n",
    "    # print(filenames[i], thisRating)\n",
    "    if(thisRating > 0.9):\n",
    "        print(\"\", \"🟢 Signal detected in\", filenames[i])\n",
    "    "
   ]
  },
  {
   "cell_type": "code",
   "execution_count": null,
   "metadata": {},
   "outputs": [],
   "source": []
  },
  {
   "cell_type": "code",
   "execution_count": 63,
   "metadata": {},
   "outputs": [],
   "source": [
    "l = load(\"./dataset/\")\n",
    "data_x, data_y = l.load()\n",
    "\n",
    "clf = svm.SVC()\n",
    "X_train, X_test, y_train, y_test = train_test_split(data_x, data_y, test_size=0.1)\n",
    "clf.fit(X_train, y_train)\n",
    "predicted = clf.predict(X_test)"
   ]
  },
  {
   "cell_type": "code",
   "execution_count": 64,
   "metadata": {},
   "outputs": [
    {
     "name": "stdout",
     "output_type": "stream",
     "text": [
      "Correct rate:  1.0\n"
     ]
    },
    {
     "data": {
      "text/plain": [
       "(array([0., 0., 1., 0., 0., 0., 0.]), array([0., 0., 1., 0., 0., 0., 0.]))"
      ]
     },
     "execution_count": 64,
     "metadata": {},
     "output_type": "execute_result"
    }
   ],
   "source": [
    "# Correct rate\n",
    "print(\"Correct rate: \", metrics.accuracy_score(y_test, predicted))\n",
    "y_test, predicted"
   ]
  },
  {
   "cell_type": "code",
   "execution_count": null,
   "metadata": {},
   "outputs": [],
   "source": []
  }
 ],
 "metadata": {
  "interpreter": {
   "hash": "a2ac1655bb1ddfb40a3efc5d9327170a1116d98f10b40012a355a0add855e98a"
  },
  "kernelspec": {
   "display_name": "Python 3.8.10 ('base')",
   "language": "python",
   "name": "python3"
  },
  "language_info": {
   "codemirror_mode": {
    "name": "ipython",
    "version": 3
   },
   "file_extension": ".py",
   "mimetype": "text/x-python",
   "name": "python",
   "nbconvert_exporter": "python",
   "pygments_lexer": "ipython3",
   "version": "3.8.10"
  },
  "orig_nbformat": 4
 },
 "nbformat": 4,
 "nbformat_minor": 2
}
